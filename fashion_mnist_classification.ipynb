{
  "nbformat": 4,
  "nbformat_minor": 0,
  "metadata": {
    "colab": {
      "provenance": [],
      "gpuType": "T4"
    },
    "kernelspec": {
      "name": "python3",
      "display_name": "Python 3"
    },
    "language_info": {
      "name": "python"
    },
    "accelerator": "GPU"
  },
  "cells": [
    {
      "cell_type": "code",
      "execution_count": 1,
      "metadata": {
        "id": "BYPIpWhHrLmR"
      },
      "outputs": [],
      "source": [
        "import tensorflow as tf\n",
        "from tensorflow import keras\n",
        "from sklearn.datasets import fetch_california_housing\n",
        "from sklearn.model_selection import train_test_split\n",
        "from sklearn.preprocessing import StandardScaler\n",
        "from sklearn.model_selection import GridSearchCV"
      ]
    },
    {
      "cell_type": "code",
      "source": [
        "import matplotlib.pyplot as plt\n",
        "import numpy as np"
      ],
      "metadata": {
        "id": "yRMFvvj8rqNt"
      },
      "execution_count": 2,
      "outputs": []
    },
    {
      "cell_type": "code",
      "source": [
        "tf.__version__"
      ],
      "metadata": {
        "colab": {
          "base_uri": "https://localhost:8080/",
          "height": 36
        },
        "id": "_BY0Q1lSr5nC",
        "outputId": "d76cbaa5-b9bc-4ff5-d7aa-ad2315a42873"
      },
      "execution_count": 3,
      "outputs": [
        {
          "output_type": "execute_result",
          "data": {
            "text/plain": [
              "'2.15.0'"
            ],
            "application/vnd.google.colaboratory.intrinsic+json": {
              "type": "string"
            }
          },
          "metadata": {},
          "execution_count": 3
        }
      ]
    },
    {
      "cell_type": "markdown",
      "source": [
        "#Classification"
      ],
      "metadata": {
        "id": "aU3Z7qmqr71W"
      }
    },
    {
      "cell_type": "code",
      "source": [
        "fmnist_data = keras.datasets.fashion_mnist"
      ],
      "metadata": {
        "id": "hNqgu6y6r6gj"
      },
      "execution_count": 4,
      "outputs": []
    },
    {
      "cell_type": "code",
      "source": [
        "(x_train, y_train), (x_test, y_test) = fmnist_data.load_data()"
      ],
      "metadata": {
        "colab": {
          "base_uri": "https://localhost:8080/"
        },
        "id": "n7MdsXSIsCoj",
        "outputId": "ddf981b7-00b4-4739-c7e4-4581750bbd84"
      },
      "execution_count": 5,
      "outputs": [
        {
          "output_type": "stream",
          "name": "stdout",
          "text": [
            "Downloading data from https://storage.googleapis.com/tensorflow/tf-keras-datasets/train-labels-idx1-ubyte.gz\n",
            "29515/29515 [==============================] - 0s 0us/step\n",
            "Downloading data from https://storage.googleapis.com/tensorflow/tf-keras-datasets/train-images-idx3-ubyte.gz\n",
            "26421880/26421880 [==============================] - 2s 0us/step\n",
            "Downloading data from https://storage.googleapis.com/tensorflow/tf-keras-datasets/t10k-labels-idx1-ubyte.gz\n",
            "5148/5148 [==============================] - 0s 0us/step\n",
            "Downloading data from https://storage.googleapis.com/tensorflow/tf-keras-datasets/t10k-images-idx3-ubyte.gz\n",
            "4422102/4422102 [==============================] - 1s 0us/step\n"
          ]
        }
      ]
    },
    {
      "cell_type": "code",
      "source": [
        "x_train.shape"
      ],
      "metadata": {
        "colab": {
          "base_uri": "https://localhost:8080/"
        },
        "id": "da4aA861sG4r",
        "outputId": "6a6a6722-c2f4-4b9f-c121-5fbc245d55cc"
      },
      "execution_count": 6,
      "outputs": [
        {
          "output_type": "execute_result",
          "data": {
            "text/plain": [
              "(60000, 28, 28)"
            ]
          },
          "metadata": {},
          "execution_count": 6
        }
      ]
    },
    {
      "cell_type": "code",
      "source": [
        "x_test.shape"
      ],
      "metadata": {
        "colab": {
          "base_uri": "https://localhost:8080/"
        },
        "id": "CAMdXETCsJXu",
        "outputId": "abfcf5ac-7254-492d-fa79-f7ec0f8e2d1d"
      },
      "execution_count": 7,
      "outputs": [
        {
          "output_type": "execute_result",
          "data": {
            "text/plain": [
              "(10000, 28, 28)"
            ]
          },
          "metadata": {},
          "execution_count": 7
        }
      ]
    },
    {
      "cell_type": "code",
      "source": [
        "y_train.shape"
      ],
      "metadata": {
        "colab": {
          "base_uri": "https://localhost:8080/"
        },
        "id": "UEdHyx41sLyc",
        "outputId": "2ff631c5-595e-43a3-bbe7-52d261905a8e"
      },
      "execution_count": 8,
      "outputs": [
        {
          "output_type": "execute_result",
          "data": {
            "text/plain": [
              "(60000,)"
            ]
          },
          "metadata": {},
          "execution_count": 8
        }
      ]
    },
    {
      "cell_type": "code",
      "source": [
        "y_train[:10]"
      ],
      "metadata": {
        "colab": {
          "base_uri": "https://localhost:8080/"
        },
        "id": "3_lpjX4xsP6t",
        "outputId": "829a69a3-988f-4c07-94f9-67658eed113c"
      },
      "execution_count": 9,
      "outputs": [
        {
          "output_type": "execute_result",
          "data": {
            "text/plain": [
              "array([9, 0, 0, 3, 0, 2, 7, 2, 5, 5], dtype=uint8)"
            ]
          },
          "metadata": {},
          "execution_count": 9
        }
      ]
    },
    {
      "cell_type": "code",
      "source": [
        "plt.imshow(x_train[0,], cmap=\"gray\")"
      ],
      "metadata": {
        "colab": {
          "base_uri": "https://localhost:8080/",
          "height": 448
        },
        "id": "fqSPHYTNsShZ",
        "outputId": "f56d4676-03d1-4684-f7a6-66287ac30791"
      },
      "execution_count": 10,
      "outputs": [
        {
          "output_type": "execute_result",
          "data": {
            "text/plain": [
              "<matplotlib.image.AxesImage at 0x796036f41ab0>"
            ]
          },
          "metadata": {},
          "execution_count": 10
        },
        {
          "output_type": "display_data",
          "data": {
            "text/plain": [
              "<Figure size 640x480 with 1 Axes>"
            ],
            "image/png": "[encoded data removed]"
          },
          "metadata": {}
        }
      ]
    },
    {
      "cell_type": "code",
      "source": [
        "x_train, x_test = x_train/255.0, x_test/255.0"
      ],
      "metadata": {
        "id": "YRh-UFqXsUzU"
      },
      "execution_count": 11,
      "outputs": []
    },
    {
      "cell_type": "code",
      "source": [
        "x_train.shape"
      ],
      "metadata": {
        "colab": {
          "base_uri": "https://localhost:8080/"
        },
        "id": "SCl_7coFsWmh",
        "outputId": "3a9b2fd1-6ea7-40c6-cd98-2d86ebff1171"
      },
      "execution_count": 12,
      "outputs": [
        {
          "output_type": "execute_result",
          "data": {
            "text/plain": [
              "(60000, 28, 28)"
            ]
          },
          "metadata": {},
          "execution_count": 12
        }
      ]
    },
    {
      "cell_type": "markdown",
      "source": [
        "# Define Model"
      ],
      "metadata": {
        "id": "ybNdCTUashem"
      }
    },
    {
      "cell_type": "code",
      "source": [
        "model = keras.models.Sequential([\n",
        "    keras.layers.Flatten(input_shape=[28, 28]),\n",
        "    keras.layers.Dense(100, activation=\"relu\"),\n",
        "    keras.layers.Dense(75, activation=\"relu\"),\n",
        "    keras.layers.Dense(10, activation=\"softmax\")\n",
        "])"
      ],
      "metadata": {
        "id": "Q3DBh5Xlsfyh"
      },
      "execution_count": 15,
      "outputs": []
    },
    {
      "cell_type": "code",
      "source": [
        "model.summary()"
      ],
      "metadata": {
        "colab": {
          "base_uri": "https://localhost:8080/"
        },
        "id": "3Wl2d-yDsn93",
        "outputId": "5a8a1f1b-dc79-4cd3-f8b5-ff7d6ce49a03"
      },
      "execution_count": 16,
      "outputs": [
        {
          "output_type": "stream",
          "name": "stdout",
          "text": [
            "Model: \"sequential\"\n",
            "_________________________________________________________________\n",
            " Layer (type)                Output Shape              Param #   \n",
            "=================================================================\n",
            " flatten (Flatten)           (None, 784)               0         \n",
            "                                                                 \n",
            " dense (Dense)               (None, 100)               78500     \n",
            "                                                                 \n",
            " dense_1 (Dense)             (None, 75)                7575      \n",
            "                                                                 \n",
            " dense_2 (Dense)             (None, 10)                760       \n",
            "                                                                 \n",
            "=================================================================\n",
            "Total params: 86835 (339.20 KB)\n",
            "Trainable params: 86835 (339.20 KB)\n",
            "Non-trainable params: 0 (0.00 Byte)\n",
            "_________________________________________________________________\n"
          ]
        }
      ]
    },
    {
      "cell_type": "markdown",
      "source": [
        "# Compile Model"
      ],
      "metadata": {
        "id": "kIHgaasfsxHS"
      }
    },
    {
      "cell_type": "code",
      "source": [
        "model.compile(loss=\"sparse_categorical_crossentropy\",\n",
        "              optimizer=\"sgd\",\n",
        "              metrics=[\"accuracy\"])"
      ],
      "metadata": {
        "id": "L621IsYwswqE"
      },
      "execution_count": 17,
      "outputs": []
    },
    {
      "cell_type": "markdown",
      "source": [
        "# Fit Model"
      ],
      "metadata": {
        "id": "8rjgCGQ2s2zx"
      }
    },
    {
      "cell_type": "code",
      "source": [
        "history = model.fit(x_train, y_train, epochs=50, validation_split=0.15)"
      ],
      "metadata": {
        "colab": {
          "base_uri": "https://localhost:8080/"
        },
        "id": "ObeL5taYs3vI",
        "outputId": "ecce9122-c356-46d1-9020-b663b6360336"
      },
      "execution_count": 18,
      "outputs": [
        {
          "output_type": "stream",
          "name": "stdout",
          "text": [
            "Epoch 1/50\n",
            "1594/1594 [==============================] - 8s 4ms/step - loss: 0.7782 - accuracy: 0.7441 - val_loss: 0.5762 - val_accuracy: 0.7981\n",
            "Epoch 2/50\n",
            "1594/1594 [==============================] - 5s 3ms/step - loss: 0.5121 - accuracy: 0.8224 - val_loss: 0.4815 - val_accuracy: 0.8321\n",
            "Epoch 3/50\n",
            "1594/1594 [==============================] - 5s 3ms/step - loss: 0.4632 - accuracy: 0.8372 - val_loss: 0.4887 - val_accuracy: 0.8284\n",
            "Epoch 4/50\n",
            "1594/1594 [==============================] - 6s 4ms/step - loss: 0.4339 - accuracy: 0.8477 - val_loss: 0.4320 - val_accuracy: 0.8512\n",
            "Epoch 5/50\n",
            "1594/1594 [==============================] - 5s 3ms/step - loss: 0.4142 - accuracy: 0.8539 - val_loss: 0.4169 - val_accuracy: 0.8548\n",
            "Epoch 6/50\n",
            "1594/1594 [==============================] - 6s 4ms/step - loss: 0.3979 - accuracy: 0.8595 - val_loss: 0.4114 - val_accuracy: 0.8582\n",
            "Epoch 7/50\n",
            "1594/1594 [==============================] - 5s 3ms/step - loss: 0.3842 - accuracy: 0.8651 - val_loss: 0.3891 - val_accuracy: 0.8649\n",
            "Epoch 8/50\n",
            "1594/1594 [==============================] - 8s 5ms/step - loss: 0.3729 - accuracy: 0.8691 - val_loss: 0.3875 - val_accuracy: 0.8641\n",
            "Epoch 9/50\n",
            "1594/1594 [==============================] - 7s 5ms/step - loss: 0.3636 - accuracy: 0.8716 - val_loss: 0.3793 - val_accuracy: 0.8660\n",
            "Epoch 10/50\n",
            "1594/1594 [==============================] - 7s 4ms/step - loss: 0.3542 - accuracy: 0.8747 - val_loss: 0.3753 - val_accuracy: 0.8676\n",
            "Epoch 11/50\n",
            "1594/1594 [==============================] - 6s 4ms/step - loss: 0.3455 - accuracy: 0.8774 - val_loss: 0.3708 - val_accuracy: 0.8669\n",
            "Epoch 12/50\n",
            "1594/1594 [==============================] - 7s 4ms/step - loss: 0.3383 - accuracy: 0.8794 - val_loss: 0.3658 - val_accuracy: 0.8694\n",
            "Epoch 13/50\n",
            "1594/1594 [==============================] - 6s 3ms/step - loss: 0.3318 - accuracy: 0.8816 - val_loss: 0.3793 - val_accuracy: 0.8690\n",
            "Epoch 14/50\n",
            "1594/1594 [==============================] - 7s 5ms/step - loss: 0.3244 - accuracy: 0.8844 - val_loss: 0.3622 - val_accuracy: 0.8686\n",
            "Epoch 15/50\n",
            "1594/1594 [==============================] - 6s 4ms/step - loss: 0.3185 - accuracy: 0.8865 - val_loss: 0.3590 - val_accuracy: 0.8689\n",
            "Epoch 16/50\n",
            "1594/1594 [==============================] - 7s 4ms/step - loss: 0.3123 - accuracy: 0.8880 - val_loss: 0.3471 - val_accuracy: 0.8774\n",
            "Epoch 17/50\n",
            "1594/1594 [==============================] - 5s 3ms/step - loss: 0.3070 - accuracy: 0.8906 - val_loss: 0.3523 - val_accuracy: 0.8756\n",
            "Epoch 18/50\n",
            "1594/1594 [==============================] - 7s 4ms/step - loss: 0.3017 - accuracy: 0.8925 - val_loss: 0.3539 - val_accuracy: 0.8753\n",
            "Epoch 19/50\n",
            "1594/1594 [==============================] - 6s 4ms/step - loss: 0.2966 - accuracy: 0.8938 - val_loss: 0.3481 - val_accuracy: 0.8762\n",
            "Epoch 20/50\n",
            "1594/1594 [==============================] - 5s 3ms/step - loss: 0.2916 - accuracy: 0.8956 - val_loss: 0.3413 - val_accuracy: 0.8770\n",
            "Epoch 21/50\n",
            "1594/1594 [==============================] - 6s 4ms/step - loss: 0.2874 - accuracy: 0.8960 - val_loss: 0.3413 - val_accuracy: 0.8802\n",
            "Epoch 22/50\n",
            "1594/1594 [==============================] - 5s 3ms/step - loss: 0.2828 - accuracy: 0.8983 - val_loss: 0.3758 - val_accuracy: 0.8657\n",
            "Epoch 23/50\n",
            "1594/1594 [==============================] - 6s 4ms/step - loss: 0.2787 - accuracy: 0.8997 - val_loss: 0.3504 - val_accuracy: 0.8786\n",
            "Epoch 24/50\n",
            "1594/1594 [==============================] - 5s 3ms/step - loss: 0.2735 - accuracy: 0.9015 - val_loss: 0.3380 - val_accuracy: 0.8821\n",
            "Epoch 25/50\n",
            "1594/1594 [==============================] - 5s 3ms/step - loss: 0.2694 - accuracy: 0.9031 - val_loss: 0.3667 - val_accuracy: 0.8659\n",
            "Epoch 26/50\n",
            "1594/1594 [==============================] - 6s 4ms/step - loss: 0.2671 - accuracy: 0.9052 - val_loss: 0.3365 - val_accuracy: 0.8787\n",
            "Epoch 27/50\n",
            "1594/1594 [==============================] - 5s 3ms/step - loss: 0.2631 - accuracy: 0.9051 - val_loss: 0.3388 - val_accuracy: 0.8763\n",
            "Epoch 28/50\n",
            "1594/1594 [==============================] - 6s 4ms/step - loss: 0.2598 - accuracy: 0.9061 - val_loss: 0.3445 - val_accuracy: 0.8776\n",
            "Epoch 29/50\n",
            "1594/1594 [==============================] - 5s 3ms/step - loss: 0.2558 - accuracy: 0.9082 - val_loss: 0.3296 - val_accuracy: 0.8838\n",
            "Epoch 30/50\n",
            "1594/1594 [==============================] - 6s 4ms/step - loss: 0.2518 - accuracy: 0.9087 - val_loss: 0.3261 - val_accuracy: 0.8816\n",
            "Epoch 31/50\n",
            "1594/1594 [==============================] - 5s 3ms/step - loss: 0.2492 - accuracy: 0.9103 - val_loss: 0.3205 - val_accuracy: 0.8872\n",
            "Epoch 32/50\n",
            "1594/1594 [==============================] - 5s 3ms/step - loss: 0.2460 - accuracy: 0.9102 - val_loss: 0.3365 - val_accuracy: 0.8776\n",
            "Epoch 33/50\n",
            "1594/1594 [==============================] - 6s 4ms/step - loss: 0.2430 - accuracy: 0.9124 - val_loss: 0.3251 - val_accuracy: 0.8828\n",
            "Epoch 34/50\n",
            "1594/1594 [==============================] - 5s 3ms/step - loss: 0.2388 - accuracy: 0.9147 - val_loss: 0.3269 - val_accuracy: 0.8820\n",
            "Epoch 35/50\n",
            "1594/1594 [==============================] - 6s 4ms/step - loss: 0.2368 - accuracy: 0.9143 - val_loss: 0.3210 - val_accuracy: 0.8858\n",
            "Epoch 36/50\n",
            "1594/1594 [==============================] - 5s 3ms/step - loss: 0.2338 - accuracy: 0.9164 - val_loss: 0.3338 - val_accuracy: 0.8820\n",
            "Epoch 37/50\n",
            "1594/1594 [==============================] - 7s 4ms/step - loss: 0.2315 - accuracy: 0.9165 - val_loss: 0.3162 - val_accuracy: 0.8856\n",
            "Epoch 38/50\n",
            "1594/1594 [==============================] - 5s 3ms/step - loss: 0.2284 - accuracy: 0.9174 - val_loss: 0.3238 - val_accuracy: 0.8851\n",
            "Epoch 39/50\n",
            "1594/1594 [==============================] - 5s 3ms/step - loss: 0.2259 - accuracy: 0.9184 - val_loss: 0.3298 - val_accuracy: 0.8839\n",
            "Epoch 40/50\n",
            "1594/1594 [==============================] - 6s 4ms/step - loss: 0.2225 - accuracy: 0.9194 - val_loss: 0.3211 - val_accuracy: 0.8860\n",
            "Epoch 41/50\n",
            "1594/1594 [==============================] - 5s 3ms/step - loss: 0.2204 - accuracy: 0.9204 - val_loss: 0.3193 - val_accuracy: 0.8861\n",
            "Epoch 42/50\n",
            "1594/1594 [==============================] - 6s 4ms/step - loss: 0.2167 - accuracy: 0.9229 - val_loss: 0.3255 - val_accuracy: 0.8856\n",
            "Epoch 43/50\n",
            "1594/1594 [==============================] - 5s 3ms/step - loss: 0.2152 - accuracy: 0.9224 - val_loss: 0.3223 - val_accuracy: 0.8869\n",
            "Epoch 44/50\n",
            "1594/1594 [==============================] - 5s 3ms/step - loss: 0.2117 - accuracy: 0.9239 - val_loss: 0.3179 - val_accuracy: 0.8869\n",
            "Epoch 45/50\n",
            "1594/1594 [==============================] - 6s 3ms/step - loss: 0.2096 - accuracy: 0.9238 - val_loss: 0.3280 - val_accuracy: 0.8831\n",
            "Epoch 46/50\n",
            "1594/1594 [==============================] - 5s 3ms/step - loss: 0.2071 - accuracy: 0.9259 - val_loss: 0.3193 - val_accuracy: 0.8877\n",
            "Epoch 47/50\n",
            "1594/1594 [==============================] - 6s 4ms/step - loss: 0.2050 - accuracy: 0.9274 - val_loss: 0.3249 - val_accuracy: 0.8880\n",
            "Epoch 48/50\n",
            "1594/1594 [==============================] - 5s 3ms/step - loss: 0.2023 - accuracy: 0.9272 - val_loss: 0.3313 - val_accuracy: 0.8826\n",
            "Epoch 49/50\n",
            "1594/1594 [==============================] - 6s 4ms/step - loss: 0.2004 - accuracy: 0.9280 - val_loss: 0.3215 - val_accuracy: 0.8891\n",
            "Epoch 50/50\n",
            "1594/1594 [==============================] - 5s 3ms/step - loss: 0.1987 - accuracy: 0.9287 - val_loss: 0.3306 - val_accuracy: 0.8852\n"
          ]
        }
      ]
    },
    {
      "cell_type": "code",
      "source": [
        "print(history.history)"
      ],
      "metadata": {
        "colab": {
          "base_uri": "https://localhost:8080/"
        },
        "id": "gBsQch22tFJ2",
        "outputId": "6a05bde8-c5a8-40b3-9447-6968d8fc8172"
      },
      "execution_count": 19,
      "outputs": [
        {
          "output_type": "stream",
          "name": "stdout",
          "text": [
            "{'loss': [0.7781959772109985, 0.5120547413825989, 0.4631861448287964, 0.4338909685611725, 0.41423705220222473, 0.39790254831314087, 0.3842480778694153, 0.37286654114723206, 0.3636375963687897, 0.3541699945926666, 0.3455052971839905, 0.33827221393585205, 0.33178290724754333, 0.3244374990463257, 0.3185332715511322, 0.3122965097427368, 0.3070126473903656, 0.3017245829105377, 0.29662376642227173, 0.2916449308395386, 0.2873973250389099, 0.2828257083892822, 0.27869799733161926, 0.27354565262794495, 0.26944419741630554, 0.2671425938606262, 0.2630579173564911, 0.2598467767238617, 0.2558249533176422, 0.2517949938774109, 0.24922887980937958, 0.2460208684206009, 0.24302034080028534, 0.23878638446331024, 0.2367554008960724, 0.2337811142206192, 0.23145337402820587, 0.22841964662075043, 0.22588267922401428, 0.22246459126472473, 0.22036609053611755, 0.21666574478149414, 0.2151830941438675, 0.21166522800922394, 0.20963960886001587, 0.20707882940769196, 0.20500127971172333, 0.2023371011018753, 0.20043422281742096, 0.1987125426530838], 'accuracy': [0.7440784573554993, 0.822372555732727, 0.8371568918228149, 0.8476862907409668, 0.8538627624511719, 0.8594706058502197, 0.8650784492492676, 0.8691176176071167, 0.8715686202049255, 0.8747059106826782, 0.8773725628852844, 0.8793529272079468, 0.8815686106681824, 0.8843725323677063, 0.8865489959716797, 0.888039231300354, 0.8905882239341736, 0.8925294280052185, 0.8937842845916748, 0.8956470489501953, 0.8960391879081726, 0.898254930973053, 0.8997058868408203, 0.9014706015586853, 0.9030784368515015, 0.9052156805992126, 0.9050784111022949, 0.9060588479042053, 0.9081568717956543, 0.9087451100349426, 0.9102941155433655, 0.91019606590271, 0.9123725295066833, 0.9147058725357056, 0.9142745137214661, 0.916372537612915, 0.9164901971817017, 0.9173921346664429, 0.9183529615402222, 0.9194313883781433, 0.9204117655754089, 0.9228627681732178, 0.9223529696464539, 0.9239411950111389, 0.9237843155860901, 0.925862729549408, 0.9273725748062134, 0.9272156953811646, 0.9280195832252502, 0.9287058711051941], 'val_loss': [0.5761606097221375, 0.48148685693740845, 0.4887320399284363, 0.43201935291290283, 0.41690099239349365, 0.4114483594894409, 0.38909709453582764, 0.3874644935131073, 0.37927937507629395, 0.375326931476593, 0.3708074688911438, 0.36581629514694214, 0.3793022334575653, 0.362211674451828, 0.35899263620376587, 0.3470677137374878, 0.35229507088661194, 0.35390979051589966, 0.3481284976005554, 0.3412530720233917, 0.3413085341453552, 0.3758186995983124, 0.35040000081062317, 0.3380464017391205, 0.36670565605163574, 0.33645883202552795, 0.33879733085632324, 0.3444591462612152, 0.3295927941799164, 0.3260551393032074, 0.32048821449279785, 0.33647292852401733, 0.32505741715431213, 0.32690519094467163, 0.3209511935710907, 0.33382663130760193, 0.31623855233192444, 0.3238016366958618, 0.32984912395477295, 0.32110124826431274, 0.31934574246406555, 0.3255314230918884, 0.3222939670085907, 0.3178616166114807, 0.32802656292915344, 0.3192937672138214, 0.32487064599990845, 0.3313378095626831, 0.32154661417007446, 0.3306415379047394], 'val_accuracy': [0.7981111407279968, 0.832111120223999, 0.8284444212913513, 0.8512222170829773, 0.8547777533531189, 0.858222246170044, 0.8648889064788818, 0.8641111254692078, 0.8659999966621399, 0.867555558681488, 0.8668888807296753, 0.8694444298744202, 0.8690000176429749, 0.8685555458068848, 0.8688889145851135, 0.8774444460868835, 0.8755555748939514, 0.875333309173584, 0.8762221932411194, 0.8769999742507935, 0.8802222013473511, 0.8656666874885559, 0.8785555362701416, 0.882111132144928, 0.8658888936042786, 0.8786666393280029, 0.8763333559036255, 0.8775555491447449, 0.8837777972221375, 0.8815555572509766, 0.8872222304344177, 0.8775555491447449, 0.882777750492096, 0.8820000290870667, 0.8857777714729309, 0.8820000290870667, 0.8855555653572083, 0.8851110935211182, 0.8838889002799988, 0.8859999775886536, 0.8861111402511597, 0.8855555653572083, 0.886888861656189, 0.886888861656189, 0.8831111192703247, 0.887666642665863, 0.8880000114440918, 0.8825555443763733, 0.8891111016273499, 0.8852221965789795]}\n"
          ]
        }
      ]
    },
    {
      "cell_type": "code",
      "source": [
        "fig, ax = plt.subplots(figsize=(12, 5))\n",
        "ax.plot(history.history[\"loss\"], label=\"train loss\")\n",
        "ax.plot(history.history[\"accuracy\"], label=\"train accuracy\")\n",
        "ax.plot(history.history[\"val_loss\"], label=\"validation loss\")\n",
        "ax.plot(history.history[\"val_accuracy\"], label=\"validation accuracy\")\n",
        "ax.legend()"
      ],
      "metadata": {
        "colab": {
          "base_uri": "https://localhost:8080/",
          "height": 463
        },
        "id": "azplYbFItHFn",
        "outputId": "6dc7ddb2-2de7-4466-ca72-242ea4d8e3ec"
      },
      "execution_count": 20,
      "outputs": [
        {
          "output_type": "execute_result",
          "data": {
            "text/plain": [
              "<matplotlib.legend.Legend at 0x79600077f0a0>"
            ]
          },
          "metadata": {},
          "execution_count": 20
        },
        {
          "output_type": "display_data",
          "data": {
            "text/plain": [
              "<Figure size 1200x500 with 1 Axes>"
            ],
            "image/png": "[encoded data removed]"
          },
          "metadata": {}
        }
      ]
    },
    {
      "cell_type": "code",
      "source": [
        "model.evaluate(x_test, y_test, verbose=0)"
      ],
      "metadata": {
        "colab": {
          "base_uri": "https://localhost:8080/"
        },
        "id": "kRjjpNvptJoG",
        "outputId": "1cc642e5-a727-44b0-843b-c24d529c941c"
      },
      "execution_count": 21,
      "outputs": [
        {
          "output_type": "execute_result",
          "data": {
            "text/plain": [
              "[0.3566446900367737, 0.8766999840736389]"
            ]
          },
          "metadata": {},
          "execution_count": 21
        }
      ]
    },
    {
      "cell_type": "code",
      "source": [
        "x3 = x_test[1:3,:,:]\n",
        "x3.shape"
      ],
      "metadata": {
        "colab": {
          "base_uri": "https://localhost:8080/"
        },
        "id": "OIXr4bXEtLhe",
        "outputId": "29ef2be4-5c1e-42d8-fa32-e99088b857d9"
      },
      "execution_count": 22,
      "outputs": [
        {
          "output_type": "execute_result",
          "data": {
            "text/plain": [
              "(2, 28, 28)"
            ]
          },
          "metadata": {},
          "execution_count": 22
        }
      ]
    },
    {
      "cell_type": "code",
      "source": [
        "plt.imshow(x3[0], cmap=\"gray\")"
      ],
      "metadata": {
        "colab": {
          "base_uri": "https://localhost:8080/",
          "height": 448
        },
        "id": "RWrr8GrftM5o",
        "outputId": "b5b62673-91da-4446-9bf1-8dd0d94f1449"
      },
      "execution_count": 23,
      "outputs": [
        {
          "output_type": "execute_result",
          "data": {
            "text/plain": [
              "<matplotlib.image.AxesImage at 0x796000618040>"
            ]
          },
          "metadata": {},
          "execution_count": 23
        },
        {
          "output_type": "display_data",
          "data": {
            "text/plain": [
              "<Figure size 640x480 with 1 Axes>"
            ],
            "image/png": "[encoded data removed]"
          },
          "metadata": {}
        }
      ]
    },
    {
      "cell_type": "code",
      "source": [
        "model.predict(x3).round(3)"
      ],
      "metadata": {
        "colab": {
          "base_uri": "https://localhost:8080/"
        },
        "id": "XkpeZLb5tO5I",
        "outputId": "a08566ee-4718-46d5-b9b7-e61187688bba"
      },
      "execution_count": 24,
      "outputs": [
        {
          "output_type": "stream",
          "name": "stdout",
          "text": [
            "1/1 [==============================] - 0s 74ms/step\n"
          ]
        },
        {
          "output_type": "execute_result",
          "data": {
            "text/plain": [
              "array([[0.   , 0.   , 0.997, 0.   , 0.003, 0.   , 0.   , 0.   , 0.   ,\n",
              "        0.   ],\n",
              "       [0.   , 1.   , 0.   , 0.   , 0.   , 0.   , 0.   , 0.   , 0.   ,\n",
              "        0.   ]], dtype=float32)"
            ]
          },
          "metadata": {},
          "execution_count": 24
        }
      ]
    },
    {
      "cell_type": "code",
      "source": [
        "model.predict(x3).shape"
      ],
      "metadata": {
        "colab": {
          "base_uri": "https://localhost:8080/"
        },
        "id": "BUO5rqd8tQrW",
        "outputId": "6286ea80-6179-4b86-ab70-e89632bcaa85"
      },
      "execution_count": 25,
      "outputs": [
        {
          "output_type": "stream",
          "name": "stdout",
          "text": [
            "1/1 [==============================] - 0s 16ms/step\n"
          ]
        },
        {
          "output_type": "execute_result",
          "data": {
            "text/plain": [
              "(2, 10)"
            ]
          },
          "metadata": {},
          "execution_count": 25
        }
      ]
    },
    {
      "cell_type": "code",
      "source": [
        "np.argmax(model.predict(x3).round(3), axis=1)"
      ],
      "metadata": {
        "colab": {
          "base_uri": "https://localhost:8080/"
        },
        "id": "g9LOGrgHtSkx",
        "outputId": "5c855752-e8f3-47cf-b702-b4d6ead25153"
      },
      "execution_count": 26,
      "outputs": [
        {
          "output_type": "stream",
          "name": "stdout",
          "text": [
            "1/1 [==============================] - 0s 16ms/step\n"
          ]
        },
        {
          "output_type": "execute_result",
          "data": {
            "text/plain": [
              "array([2, 1])"
            ]
          },
          "metadata": {},
          "execution_count": 26
        }
      ]
    },
    {
      "cell_type": "code",
      "source": [
        "y_test[1:3]"
      ],
      "metadata": {
        "colab": {
          "base_uri": "https://localhost:8080/"
        },
        "id": "H8CbafYetUyi",
        "outputId": "54bc1805-de98-4b00-e484-cbd4d705f92a"
      },
      "execution_count": 27,
      "outputs": [
        {
          "output_type": "execute_result",
          "data": {
            "text/plain": [
              "array([2, 1], dtype=uint8)"
            ]
          },
          "metadata": {},
          "execution_count": 27
        }
      ]
    }
  ]
}